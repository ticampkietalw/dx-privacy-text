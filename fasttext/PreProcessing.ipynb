{
 "cells": [
  {
   "cell_type": "markdown",
   "metadata": {},
   "source": [
    "# Fasttext\n",
    "We use the file \"wiki.en.vec\" downloaded [here](https://fasttext.cc/docs/en/pretrained-vectors.html) at English: text.\n",
    "It has 2,519,370 words with 300 dimensions.\n"
   ]
  },
  {
   "cell_type": "code",
   "execution_count": null,
   "metadata": {},
   "outputs": [],
   "source": [
    "import pickle\n",
    "from os.path import join\n",
    "from pathlib import Path\n",
    "import sys\n",
    "# Add the main directory to sys.path to be able to import config\n",
    "sys.path.append(str(Path.cwd().parent))\n",
    "from config import ROOT_DIR\n",
    "\n",
    "fasttext_data_folderpath = ROOT_DIR\n",
    "\n",
    "# Read the file and store data as a dictionary\n",
    "# Taken and modified from https://fasttext.cc/docs/en/english-vectors.html\n",
    "with open(join(fasttext_data_folderpath, \"wiki.en.vec\"), 'r', encoding='utf-8', newline='\\n', errors='ignore') as f:\n",
    "    n, d = map(int, f.readline().split())\n",
    "    fasttext = {}\n",
    "    for line in f:\n",
    "        tokens = line.rstrip().split(' ')\n",
    "        #fasttext[tokens[0]] = map(float, tokens[1:])\n",
    "        fasttext[tokens[0]] = list(map(float, tokens[1:]))\n",
    "\n",
    "with open(join(fasttext_data_folderpath, \"wiki.en.pkl\"), \"wb\") as f:\n",
    "    pickle.dump(fasttext, f)\n",
    "\n",
    "print(\"Vocab size = \", len(list(fasttext.keys())))\n",
    "print(\"Hidden size = \", len(list(fasttext.values())[0]))"
   ]
  }
 ],
 "metadata": {
  "kernelspec": {
   "display_name": "dx-privacy-text",
   "language": "python",
   "name": "python3"
  },
  "language_info": {
   "codemirror_mode": {
    "name": "ipython",
    "version": 3
   },
   "file_extension": ".py",
   "mimetype": "text/x-python",
   "name": "python",
   "nbconvert_exporter": "python",
   "pygments_lexer": "ipython3",
   "version": "3.11.9"
  }
 },
 "nbformat": 4,
 "nbformat_minor": 2
}
