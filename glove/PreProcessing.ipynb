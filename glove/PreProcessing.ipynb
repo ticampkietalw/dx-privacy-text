{
 "cells": [
  {
   "cell_type": "markdown",
   "metadata": {},
   "source": [
    "# Glove Pre-Processing"
   ]
  },
  {
   "cell_type": "code",
   "execution_count": null,
   "metadata": {},
   "outputs": [],
   "source": [
    "import pickle\n",
    "import numpy as np\n",
    "import os\n",
    "from os.path import join\n",
    "from pathlib import Path\n",
    "import sys\n",
    "# Add the main directory to sys.path to be able to import config\n",
    "sys.path.append(str(Path.cwd().parent))\n",
    "from config import ROOT_DIR\n",
    "\n",
    "glove_data_folderpath = ROOT_DIR\n",
    "\n",
    "glove_all_versions_filenames = [\"glove.6B.100d.txt\",\"glove.6B.200d.txt\",\"glove.6B.300d.txt\",\"glove.6B.50d.txt\", \"glove.twitter.27B.25d.txt\", \"glove.twitter.27B.50d.txt\", \"glove.twitter.27B.100d.txt\", \"glove.twitter.27B.200d.txt\"]\n",
    "\n",
    "# Open all files, read and save as a dictionary.\n",
    "# Taken from https://stackoverflow.com/a/38230349\n",
    "def load_glove_model(File):\n",
    "    glove_model = {}\n",
    "    with open(File,'r') as f:\n",
    "        for line in f:\n",
    "            split_line = line.split(\" \")\n",
    "            word = split_line[0]\n",
    "            embedding = np.array(split_line[1:], dtype=np.float64)\n",
    "            glove_model[word] = embedding\n",
    "    return glove_model\n",
    "\n",
    "for filename in glove_all_versions_filenames:\n",
    "    glove = load_glove_model(join(glove_data_folderpath, filename))\n",
    "    new_filename = os.path.splitext(filename)[0] + \".pkl\"\n",
    "    with open(join(glove_data_folderpath, new_filename), \"wb\") as f:\n",
    "        pickle.dump(glove, f)\n",
    "    print(f\"Successfully saved {new_filename}\")"
   ]
  }
 ],
 "metadata": {
  "kernelspec": {
   "display_name": "dx-privacy-text",
   "language": "python",
   "name": "python3"
  },
  "language_info": {
   "codemirror_mode": {
    "name": "ipython",
    "version": 3
   },
   "file_extension": ".py",
   "mimetype": "text/x-python",
   "name": "python",
   "nbconvert_exporter": "python",
   "pygments_lexer": "ipython3",
   "version": "3.11.9"
  }
 },
 "nbformat": 4,
 "nbformat_minor": 2
}
